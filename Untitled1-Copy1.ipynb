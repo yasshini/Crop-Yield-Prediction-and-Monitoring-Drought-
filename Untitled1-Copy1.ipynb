{
 "cells": [
  {
   "cell_type": "code",
   "execution_count": 1,
   "id": "584d0efc",
   "metadata": {},
   "outputs": [],
   "source": [
    "import pandas as pd\n",
    "from sklearn.preprocessing import MinMaxScaler"
   ]
  },
  {
   "cell_type": "code",
   "execution_count": 47,
   "id": "f5eab3c1",
   "metadata": {},
   "outputs": [],
   "source": [
    "# Load datasets\n",
    "crop_yield = pd.read_csv(\"data/Crop_Yield.csv\")\n",
    "rainfall = pd.read_csv(\"data/Rainfall.csv\")\n",
    "crop_price = pd.read_csv(\"data/Crop Prices.csv\")\n",
    "crop_data = pd.read_csv(\"data/Crop Nutrient.csv\")\n",
    "crop_df = pd.read_csv(\"data/crop_data.csv\")"
   ]
  },
  {
   "cell_type": "code",
   "execution_count": 3,
   "id": "8711e703",
   "metadata": {},
   "outputs": [
    {
     "data": {
      "text/plain": [
       "array(['Maize', 'Onion', 'Potato', 'Rice', 'Sugarcane', 'Wheat', 'Bajra',\n",
       "       'Groundnut', 'Barley', 'Sunflower'], dtype=object)"
      ]
     },
     "execution_count": 3,
     "metadata": {},
     "output_type": "execute_result"
    }
   ],
   "source": [
    "crop_yield['crop'].unique()"
   ]
  },
  {
   "cell_type": "markdown",
   "id": "e6fecc1d",
   "metadata": {},
   "source": [
    "### Preprocess Crop Price Dataset"
   ]
  },
  {
   "cell_type": "code",
   "execution_count": 4,
   "id": "bf8e03b6",
   "metadata": {},
   "outputs": [],
   "source": [
    "# Rename columns to lowercase and remove spaces\n",
    "crop_price.columns = crop_price.columns.str.lower().str.replace(\" \", \"_\")"
   ]
  },
  {
   "cell_type": "code",
   "execution_count": 5,
   "id": "36fdb413",
   "metadata": {},
   "outputs": [
    {
     "name": "stdout",
     "output_type": "stream",
     "text": [
      "✅ Dropped 'quantity' column as it was not useful.\n"
     ]
    }
   ],
   "source": [
    "# Drop 'quantity' column since it contains only \"Quintal\" text values\n",
    "if \"quantity\" in crop_price.columns:\n",
    "    crop_price = crop_price.drop(columns=[\"quantity\"])\n",
    "    print(\"✅ Dropped 'quantity' column as it was not useful.\")"
   ]
  },
  {
   "cell_type": "code",
   "execution_count": 6,
   "id": "91a02435",
   "metadata": {},
   "outputs": [
    {
     "name": "stdout",
     "output_type": "stream",
     "text": [
      "   year\n",
      "0  2018\n",
      "1  2018\n",
      "2  2018\n",
      "3  2019\n",
      "4  2019\n"
     ]
    }
   ],
   "source": [
    "# Convert \"year\" to datetime format\n",
    "crop_price[\"year\"] = pd.to_datetime(crop_price[\"year\"], errors=\"coerce\", format=\"%d-%m-%Y\")\n",
    "\n",
    "# Extract only the year\n",
    "crop_price[\"year\"] = crop_price[\"year\"].dt.year\n",
    "\n",
    "print(crop_price[[\"year\"]].head())  # Check the output\n"
   ]
  },
  {
   "cell_type": "code",
   "execution_count": 7,
   "id": "cea778c2",
   "metadata": {},
   "outputs": [],
   "source": [
    "# Convert \"year\" to integer\n",
    "crop_price[\"year\"] = pd.to_numeric(crop_price[\"year\"], errors=\"coerce\")\n",
    "\n",
    "# Select numerical columns for scaling\n",
    "num_cols_price = [\"min_price_(?/quintal)\", \"max_price_(?/quintal)\", \"modal_price_(?/quintal)\"]\n"
   ]
  },
  {
   "cell_type": "code",
   "execution_count": 8,
   "id": "63fccd3d",
   "metadata": {},
   "outputs": [
    {
     "name": "stdout",
     "output_type": "stream",
     "text": [
      "✅ Crop Price dataset processed successfully!\n"
     ]
    }
   ],
   "source": [
    "# Apply MinMax Scaling\n",
    "scaler_price = MinMaxScaler()\n",
    "crop_price[num_cols_price] = scaler_price.fit_transform(crop_price[num_cols_price])\n",
    "\n",
    "print(\"✅ Crop Price dataset processed successfully!\")"
   ]
  },
  {
   "cell_type": "code",
   "execution_count": 9,
   "id": "2bcf56ce",
   "metadata": {},
   "outputs": [
    {
     "data": {
      "text/html": [
       "<div>\n",
       "<style scoped>\n",
       "    .dataframe tbody tr th:only-of-type {\n",
       "        vertical-align: middle;\n",
       "    }\n",
       "\n",
       "    .dataframe tbody tr th {\n",
       "        vertical-align: top;\n",
       "    }\n",
       "\n",
       "    .dataframe thead th {\n",
       "        text-align: right;\n",
       "    }\n",
       "</style>\n",
       "<table border=\"1\" class=\"dataframe\">\n",
       "  <thead>\n",
       "    <tr style=\"text-align: right;\">\n",
       "      <th></th>\n",
       "      <th>state</th>\n",
       "      <th>district</th>\n",
       "      <th>market_(mandi)</th>\n",
       "      <th>commodity</th>\n",
       "      <th>min_price_(?/quintal)</th>\n",
       "      <th>max_price_(?/quintal)</th>\n",
       "      <th>modal_price_(?/quintal)</th>\n",
       "      <th>year</th>\n",
       "    </tr>\n",
       "  </thead>\n",
       "  <tbody>\n",
       "    <tr>\n",
       "      <th>0</th>\n",
       "      <td>Andhra Pradesh</td>\n",
       "      <td>Guntur</td>\n",
       "      <td>Guntur Mandi</td>\n",
       "      <td>Rice</td>\n",
       "      <td>0.009423</td>\n",
       "      <td>0.008784</td>\n",
       "      <td>0.009011</td>\n",
       "      <td>2018</td>\n",
       "    </tr>\n",
       "    <tr>\n",
       "      <th>1</th>\n",
       "      <td>Andhra Pradesh</td>\n",
       "      <td>Guntur</td>\n",
       "      <td>Guntur Mandi</td>\n",
       "      <td>Chilli</td>\n",
       "      <td>0.069494</td>\n",
       "      <td>0.067037</td>\n",
       "      <td>0.068060</td>\n",
       "      <td>2018</td>\n",
       "    </tr>\n",
       "    <tr>\n",
       "      <th>2</th>\n",
       "      <td>Andhra Pradesh</td>\n",
       "      <td>Nellore</td>\n",
       "      <td>Nellore Mandi</td>\n",
       "      <td>Cotton</td>\n",
       "      <td>0.025324</td>\n",
       "      <td>0.021526</td>\n",
       "      <td>0.023132</td>\n",
       "      <td>2018</td>\n",
       "    </tr>\n",
       "    <tr>\n",
       "      <th>3</th>\n",
       "      <td>Andhra Pradesh</td>\n",
       "      <td>Guntur</td>\n",
       "      <td>Guntur Mandi</td>\n",
       "      <td>Rice</td>\n",
       "      <td>0.010012</td>\n",
       "      <td>0.009239</td>\n",
       "      <td>0.009525</td>\n",
       "      <td>2019</td>\n",
       "    </tr>\n",
       "    <tr>\n",
       "      <th>4</th>\n",
       "      <td>Andhra Pradesh</td>\n",
       "      <td>Guntur</td>\n",
       "      <td>Guntur Mandi</td>\n",
       "      <td>Chilli</td>\n",
       "      <td>0.075383</td>\n",
       "      <td>0.071588</td>\n",
       "      <td>0.073195</td>\n",
       "      <td>2019</td>\n",
       "    </tr>\n",
       "  </tbody>\n",
       "</table>\n",
       "</div>"
      ],
      "text/plain": [
       "            state district market_(mandi) commodity  min_price_(?/quintal)  \\\n",
       "0  Andhra Pradesh   Guntur   Guntur Mandi      Rice               0.009423   \n",
       "1  Andhra Pradesh   Guntur   Guntur Mandi    Chilli               0.069494   \n",
       "2  Andhra Pradesh  Nellore  Nellore Mandi    Cotton               0.025324   \n",
       "3  Andhra Pradesh   Guntur   Guntur Mandi      Rice               0.010012   \n",
       "4  Andhra Pradesh   Guntur   Guntur Mandi    Chilli               0.075383   \n",
       "\n",
       "   max_price_(?/quintal)  modal_price_(?/quintal)  year  \n",
       "0               0.008784                 0.009011  2018  \n",
       "1               0.067037                 0.068060  2018  \n",
       "2               0.021526                 0.023132  2018  \n",
       "3               0.009239                 0.009525  2019  \n",
       "4               0.071588                 0.073195  2019  "
      ]
     },
     "execution_count": 9,
     "metadata": {},
     "output_type": "execute_result"
    }
   ],
   "source": [
    "crop_price.head()"
   ]
  },
  {
   "cell_type": "markdown",
   "id": "22880a5f",
   "metadata": {},
   "source": [
    "### Preprocess Rainfall Dataset"
   ]
  },
  {
   "cell_type": "code",
   "execution_count": 10,
   "id": "5d86f1dc",
   "metadata": {},
   "outputs": [],
   "source": [
    "# Rename columns to lowercase and remove spaces\n",
    "rainfall.columns = rainfall.columns.str.lower().str.replace(\" \", \"_\")\n"
   ]
  },
  {
   "cell_type": "code",
   "execution_count": 11,
   "id": "30cb91fe",
   "metadata": {},
   "outputs": [
    {
     "name": "stdout",
     "output_type": "stream",
     "text": [
      "✅ Missing values handled successfully!\n"
     ]
    }
   ],
   "source": [
    "# Select only numeric columns\n",
    "num_cols_rainfall = rainfall.select_dtypes(include=[\"number\"]).columns\n",
    "\n",
    "# Fill missing values only in numeric columns using median\n",
    "rainfall[num_cols_rainfall] = rainfall[num_cols_rainfall].fillna(rainfall[num_cols_rainfall].median())\n",
    "\n",
    "print(\"✅ Missing values handled successfully!\")\n"
   ]
  },
  {
   "cell_type": "code",
   "execution_count": 12,
   "id": "9d342120",
   "metadata": {},
   "outputs": [],
   "source": [
    "# Select numerical columns for scaling\n",
    "num_cols_rainfall = [\"jan\", \"feb\", \"mar\", \"apr\", \"may\", \"jun\", \"jul\", \"aug\", \"sep\", \"oct\", \"nov\", \"dec\", \"annual_rainfall\"]\n"
   ]
  },
  {
   "cell_type": "code",
   "execution_count": 13,
   "id": "6bcea917",
   "metadata": {},
   "outputs": [
    {
     "name": "stdout",
     "output_type": "stream",
     "text": [
      "✅ Rainfall dataset processed successfully!\n"
     ]
    }
   ],
   "source": [
    "# Apply MinMax Scaling\n",
    "scaler_rainfall = MinMaxScaler()\n",
    "rainfall[num_cols_rainfall] = scaler_rainfall.fit_transform(rainfall[num_cols_rainfall])\n",
    "\n",
    "print(\"✅ Rainfall dataset processed successfully!\")"
   ]
  },
  {
   "cell_type": "code",
   "execution_count": 14,
   "id": "67675870",
   "metadata": {},
   "outputs": [
    {
     "data": {
      "text/html": [
       "<div>\n",
       "<style scoped>\n",
       "    .dataframe tbody tr th:only-of-type {\n",
       "        vertical-align: middle;\n",
       "    }\n",
       "\n",
       "    .dataframe tbody tr th {\n",
       "        vertical-align: top;\n",
       "    }\n",
       "\n",
       "    .dataframe thead th {\n",
       "        text-align: right;\n",
       "    }\n",
       "</style>\n",
       "<table border=\"1\" class=\"dataframe\">\n",
       "  <thead>\n",
       "    <tr style=\"text-align: right;\">\n",
       "      <th></th>\n",
       "      <th>state</th>\n",
       "      <th>year</th>\n",
       "      <th>jan</th>\n",
       "      <th>feb</th>\n",
       "      <th>mar</th>\n",
       "      <th>apr</th>\n",
       "      <th>may</th>\n",
       "      <th>jun</th>\n",
       "      <th>jul</th>\n",
       "      <th>aug</th>\n",
       "      <th>sep</th>\n",
       "      <th>oct</th>\n",
       "      <th>nov</th>\n",
       "      <th>dec</th>\n",
       "      <th>annual_rainfall</th>\n",
       "      <th>jf</th>\n",
       "      <th>mam</th>\n",
       "      <th>jjas</th>\n",
       "      <th>ond</th>\n",
       "    </tr>\n",
       "  </thead>\n",
       "  <tbody>\n",
       "    <tr>\n",
       "      <th>0</th>\n",
       "      <td>Andaman &amp; Nicobar Islands</td>\n",
       "      <td>1901</td>\n",
       "      <td>0.084290</td>\n",
       "      <td>0.215861</td>\n",
       "      <td>0.048217</td>\n",
       "      <td>0.003865</td>\n",
       "      <td>0.452507</td>\n",
       "      <td>0.321280</td>\n",
       "      <td>0.154520</td>\n",
       "      <td>0.289018</td>\n",
       "      <td>0.272117</td>\n",
       "      <td>0.409680</td>\n",
       "      <td>0.860225</td>\n",
       "      <td>0.054413</td>\n",
       "      <td>0.528155</td>\n",
       "      <td>136.3</td>\n",
       "      <td>560.3</td>\n",
       "      <td>1696.3</td>\n",
       "      <td>980.3</td>\n",
       "    </tr>\n",
       "    <tr>\n",
       "      <th>1</th>\n",
       "      <td>Andaman &amp; Nicobar Islands</td>\n",
       "      <td>1902</td>\n",
       "      <td>0.000000</td>\n",
       "      <td>0.396035</td>\n",
       "      <td>0.020145</td>\n",
       "      <td>0.000000</td>\n",
       "      <td>0.381739</td>\n",
       "      <td>0.333458</td>\n",
       "      <td>0.096877</td>\n",
       "      <td>0.452781</td>\n",
       "      <td>0.545135</td>\n",
       "      <td>0.207951</td>\n",
       "      <td>0.553244</td>\n",
       "      <td>0.259919</td>\n",
       "      <td>0.551685</td>\n",
       "      <td>159.8</td>\n",
       "      <td>458.3</td>\n",
       "      <td>2185.9</td>\n",
       "      <td>716.7</td>\n",
       "    </tr>\n",
       "    <tr>\n",
       "      <th>2</th>\n",
       "      <td>Andaman &amp; Nicobar Islands</td>\n",
       "      <td>1903</td>\n",
       "      <td>0.021758</td>\n",
       "      <td>0.356877</td>\n",
       "      <td>0.000000</td>\n",
       "      <td>0.001680</td>\n",
       "      <td>0.201181</td>\n",
       "      <td>0.297919</td>\n",
       "      <td>0.308278</td>\n",
       "      <td>0.196263</td>\n",
       "      <td>0.277355</td>\n",
       "      <td>0.191079</td>\n",
       "      <td>0.438280</td>\n",
       "      <td>0.364372</td>\n",
       "      <td>0.461827</td>\n",
       "      <td>156.7</td>\n",
       "      <td>236.1</td>\n",
       "      <td>1874.0</td>\n",
       "      <td>690.6</td>\n",
       "    </tr>\n",
       "    <tr>\n",
       "      <th>3</th>\n",
       "      <td>Andaman &amp; Nicobar Islands</td>\n",
       "      <td>1904</td>\n",
       "      <td>0.016104</td>\n",
       "      <td>0.036431</td>\n",
       "      <td>0.000000</td>\n",
       "      <td>0.340111</td>\n",
       "      <td>0.260568</td>\n",
       "      <td>0.307363</td>\n",
       "      <td>0.212460</td>\n",
       "      <td>0.096179</td>\n",
       "      <td>0.671332</td>\n",
       "      <td>0.234314</td>\n",
       "      <td>0.475728</td>\n",
       "      <td>0.064939</td>\n",
       "      <td>0.481320</td>\n",
       "      <td>24.1</td>\n",
       "      <td>506.9</td>\n",
       "      <td>1977.6</td>\n",
       "      <td>571.0</td>\n",
       "    </tr>\n",
       "    <tr>\n",
       "      <th>4</th>\n",
       "      <td>Andaman &amp; Nicobar Islands</td>\n",
       "      <td>1905</td>\n",
       "      <td>0.002227</td>\n",
       "      <td>0.000000</td>\n",
       "      <td>0.005449</td>\n",
       "      <td>0.045202</td>\n",
       "      <td>0.239175</td>\n",
       "      <td>0.390370</td>\n",
       "      <td>0.156044</td>\n",
       "      <td>0.198546</td>\n",
       "      <td>0.242982</td>\n",
       "      <td>0.274913</td>\n",
       "      <td>0.039143</td>\n",
       "      <td>0.558219</td>\n",
       "      <td>0.399502</td>\n",
       "      <td>1.3</td>\n",
       "      <td>309.7</td>\n",
       "      <td>1624.9</td>\n",
       "      <td>630.8</td>\n",
       "    </tr>\n",
       "  </tbody>\n",
       "</table>\n",
       "</div>"
      ],
      "text/plain": [
       "                       state  year       jan       feb       mar       apr  \\\n",
       "0  Andaman & Nicobar Islands  1901  0.084290  0.215861  0.048217  0.003865   \n",
       "1  Andaman & Nicobar Islands  1902  0.000000  0.396035  0.020145  0.000000   \n",
       "2  Andaman & Nicobar Islands  1903  0.021758  0.356877  0.000000  0.001680   \n",
       "3  Andaman & Nicobar Islands  1904  0.016104  0.036431  0.000000  0.340111   \n",
       "4  Andaman & Nicobar Islands  1905  0.002227  0.000000  0.005449  0.045202   \n",
       "\n",
       "        may       jun       jul       aug       sep       oct       nov  \\\n",
       "0  0.452507  0.321280  0.154520  0.289018  0.272117  0.409680  0.860225   \n",
       "1  0.381739  0.333458  0.096877  0.452781  0.545135  0.207951  0.553244   \n",
       "2  0.201181  0.297919  0.308278  0.196263  0.277355  0.191079  0.438280   \n",
       "3  0.260568  0.307363  0.212460  0.096179  0.671332  0.234314  0.475728   \n",
       "4  0.239175  0.390370  0.156044  0.198546  0.242982  0.274913  0.039143   \n",
       "\n",
       "        dec  annual_rainfall     jf    mam    jjas    ond  \n",
       "0  0.054413         0.528155  136.3  560.3  1696.3  980.3  \n",
       "1  0.259919         0.551685  159.8  458.3  2185.9  716.7  \n",
       "2  0.364372         0.461827  156.7  236.1  1874.0  690.6  \n",
       "3  0.064939         0.481320   24.1  506.9  1977.6  571.0  \n",
       "4  0.558219         0.399502    1.3  309.7  1624.9  630.8  "
      ]
     },
     "execution_count": 14,
     "metadata": {},
     "output_type": "execute_result"
    }
   ],
   "source": [
    "rainfall.head()"
   ]
  },
  {
   "cell_type": "markdown",
   "id": "48785738",
   "metadata": {},
   "source": [
    "### Preprocess Crop Yield Dataset"
   ]
  },
  {
   "cell_type": "code",
   "execution_count": 15,
   "id": "9df4376f",
   "metadata": {},
   "outputs": [],
   "source": [
    "# Rename columns to lowercase and remove spaces\n",
    "crop_yield.columns = crop_yield.columns.str.lower().str.replace(\" \", \"_\")\n",
    "\n",
    "# Select numerical columns for scaling\n",
    "num_cols_yield = [\"area\", \"production\", \"annual_rainfall\", \"yield\"]"
   ]
  },
  {
   "cell_type": "code",
   "execution_count": 16,
   "id": "58417cc6",
   "metadata": {},
   "outputs": [
    {
     "name": "stdout",
     "output_type": "stream",
     "text": [
      "✅ Crop Yield dataset processed successfully!\n"
     ]
    }
   ],
   "source": [
    "# Apply MinMax Scaling\n",
    "scaler_yield = MinMaxScaler()\n",
    "crop_yield[num_cols_yield] = scaler_yield.fit_transform(crop_yield[num_cols_yield])\n",
    "\n",
    "print(\"✅ Crop Yield dataset processed successfully!\")"
   ]
  },
  {
   "cell_type": "markdown",
   "id": "c3da7263",
   "metadata": {},
   "source": [
    "### Preprocess Crop Yield Dataset"
   ]
  },
  {
   "cell_type": "code",
   "execution_count": 17,
   "id": "2da5b76d",
   "metadata": {},
   "outputs": [
    {
     "data": {
      "text/plain": [
       "Index(['N', 'P', 'K', 'Temperature', 'Humidity', 'pH', 'Rainfall', 'Crop'], dtype='object')"
      ]
     },
     "execution_count": 17,
     "metadata": {},
     "output_type": "execute_result"
    }
   ],
   "source": [
    "crop_data.columns"
   ]
  },
  {
   "cell_type": "code",
   "execution_count": 18,
   "id": "e5ccade2",
   "metadata": {},
   "outputs": [],
   "source": [
    "# Rename columns to lowercase and remove spaces\n",
    "crop_data.columns = crop_data.columns.str.lower().str.replace(\" \", \"_\")\n",
    "\n",
    "# Select numerical columns for scaling\n",
    "num_cols_crop = ['n', 'p', 'k', 'temperature', 'humidity', 'ph', 'rainfall']\n"
   ]
  },
  {
   "cell_type": "code",
   "execution_count": 19,
   "id": "dd12121c",
   "metadata": {},
   "outputs": [
    {
     "name": "stdout",
     "output_type": "stream",
     "text": [
      "✅ Crop Data dataset processed successfully!\n"
     ]
    }
   ],
   "source": [
    "# Apply MinMax Scaling\n",
    "scaler_crop = MinMaxScaler()\n",
    "crop_data[num_cols_crop] = scaler_crop.fit_transform(crop_data[num_cols_crop])\n",
    "\n",
    "print(\"✅ Crop Data dataset processed successfully!\")"
   ]
  },
  {
   "cell_type": "code",
   "execution_count": 20,
   "id": "790dc4c3",
   "metadata": {},
   "outputs": [],
   "source": [
    "from sklearn.preprocessing import LabelEncoder, OneHotEncoder\n",
    "# Initialize Label Encoders\n",
    "label_enc = LabelEncoder()"
   ]
  },
  {
   "cell_type": "code",
   "execution_count": 21,
   "id": "4397d43f",
   "metadata": {},
   "outputs": [],
   "source": [
    "# 🚜 Crop Yield Dataset\n",
    "crop_yield[\"crop\"] = label_enc.fit_transform(crop_yield[\"crop\"])\n",
    "crop_yield[\"season\"] = label_enc.fit_transform(crop_yield[\"season\"])\n",
    "crop_yield[\"state\"] = label_enc.fit_transform(crop_yield[\"state\"])\n",
    "\n",
    "# 🌧️ Rainfall Dataset\n",
    "rainfall[\"state\"] = label_enc.fit_transform(rainfall[\"state\"])  # Convert state to numerical\n",
    "\n",
    "# 💰 Crop Prices Dataset\n",
    "crop_price[\"state\"] = label_enc.fit_transform(crop_price[\"state\"])\n",
    "crop_price[\"district\"] = label_enc.fit_transform(crop_price[\"district\"])\n",
    "crop_price[\"market_(mandi)\"] = label_enc.fit_transform(crop_price[\"market_(mandi)\"])\n",
    "crop_price[\"commodity\"] = label_enc.fit_transform(crop_price[\"commodity\"])\n",
    "\n"
   ]
  },
  {
   "cell_type": "code",
   "execution_count": 22,
   "id": "97e5c914",
   "metadata": {},
   "outputs": [
    {
     "name": "stdout",
     "output_type": "stream",
     "text": [
      "Index(['state', 'district', 'market_(mandi)', 'commodity',\n",
      "       'min_price_(?/quintal)', 'max_price_(?/quintal)',\n",
      "       'modal_price_(?/quintal)', 'year'],\n",
      "      dtype='object')\n"
     ]
    }
   ],
   "source": [
    "print(crop_price.columns)\n"
   ]
  },
  {
   "cell_type": "code",
   "execution_count": 23,
   "id": "595b4af4",
   "metadata": {},
   "outputs": [],
   "source": [
    "# Convert Year column to numeric (if not already)\n",
    "crop_price[\"year\"] = pd.to_numeric(crop_price[\"year\"], errors=\"coerce\")\n",
    "rainfall[\"year\"] = pd.to_numeric(rainfall[\"year\"], errors=\"coerce\")\n",
    "crop_yield[\"year\"] = pd.to_numeric(crop_yield[\"year\"], errors=\"coerce\")\n"
   ]
  },
  {
   "cell_type": "code",
   "execution_count": 24,
   "id": "9d4612b3",
   "metadata": {},
   "outputs": [
    {
     "name": "stdout",
     "output_type": "stream",
     "text": [
      "✅ Training & Testing sets created successfully!\n"
     ]
    }
   ],
   "source": [
    "from sklearn.model_selection import train_test_split\n",
    "\n",
    "# 🚜 Crop Yield Dataset\n",
    "X_yield = crop_yield.drop(columns=[\"yield\"])  # Features\n",
    "y_yield = crop_yield[\"yield\"]  # Target variable\n",
    "X_train_yield, X_test_yield, y_train_yield, y_test_yield = train_test_split(X_yield, y_yield, test_size=0.2, random_state=42)\n",
    "\n",
    "# 🌧️ Rainfall Dataset\n",
    "X_rainfall = rainfall.drop(columns=[\"annual_rainfall\"])  # Features\n",
    "y_rainfall = rainfall[\"annual_rainfall\"]  # Target variable\n",
    "X_train_rainfall, X_test_rainfall, y_train_rainfall, y_test_rainfall = train_test_split(X_rainfall, y_rainfall, test_size=0.2, random_state=42)\n",
    "\n",
    "# 💰 Crop Prices Dataset\n",
    "X_price = crop_price.drop(columns=[\"modal_price_(?/quintal)\"])  # Features\n",
    "y_price = crop_price[\"modal_price_(?/quintal)\"]  # Target variable\n",
    "X_train_price, X_test_price, y_train_price, y_test_price = train_test_split(X_price, y_price, test_size=0.2, random_state=42)\n",
    "\n",
    "\n",
    "print(\"✅ Training & Testing sets created successfully!\")\n"
   ]
  },
  {
   "cell_type": "code",
   "execution_count": 25,
   "id": "ce5f2514",
   "metadata": {},
   "outputs": [
    {
     "name": "stdout",
     "output_type": "stream",
     "text": [
      "✅ Models trained successfully!\n"
     ]
    }
   ],
   "source": [
    "from sklearn.ensemble import RandomForestRegressor\n",
    "\n",
    "# Initialize models\n",
    "model_yield = RandomForestRegressor(n_estimators=100, random_state=42)\n",
    "model_rainfall = RandomForestRegressor(n_estimators=100, random_state=42)\n",
    "model_price = RandomForestRegressor(n_estimators=100, random_state=42)\n",
    "\n",
    "# Train models\n",
    "model_yield.fit(X_train_yield, y_train_yield)\n",
    "model_rainfall.fit(X_train_rainfall, y_train_rainfall)\n",
    "model_price.fit(X_train_price, y_train_price)\n",
    "\n",
    "print(\"✅ Models trained successfully!\")\n"
   ]
  },
  {
   "cell_type": "code",
   "execution_count": 26,
   "id": "0692219e",
   "metadata": {},
   "outputs": [
    {
     "name": "stdout",
     "output_type": "stream",
     "text": [
      "📌 Crop Yield Model Performance:\n",
      "🔹 Mean Absolute Error (MAE): 0.0014\n",
      "🔹 Mean Squared Error (MSE): 0.0000\n",
      "🔹 R² Score: 0.9272\n",
      "--------------------------------------------------\n",
      "📌 Rainfall Model Performance:\n",
      "🔹 Mean Absolute Error (MAE): 0.0086\n",
      "🔹 Mean Squared Error (MSE): 0.0007\n",
      "🔹 R² Score: 0.9730\n",
      "--------------------------------------------------\n",
      "📌 Crop Price Model Performance:\n",
      "🔹 Mean Absolute Error (MAE): 0.0016\n",
      "🔹 Mean Squared Error (MSE): 0.0001\n",
      "🔹 R² Score: 0.9963\n",
      "--------------------------------------------------\n",
      "✅ Model evaluation completed!\n"
     ]
    }
   ],
   "source": [
    "from sklearn.metrics import mean_absolute_error, mean_squared_error, r2_score\n",
    "\n",
    "# Function to evaluate model\n",
    "def evaluate_model(model, X_test, y_test, dataset_name):\n",
    "    y_pred = model.predict(X_test)\n",
    "    \n",
    "    mae = mean_absolute_error(y_test, y_pred)\n",
    "    mse = mean_squared_error(y_test, y_pred)\n",
    "    r2 = r2_score(y_test, y_pred)\n",
    "\n",
    "    print(f\"📌 {dataset_name} Model Performance:\")\n",
    "    print(f\"🔹 Mean Absolute Error (MAE): {mae:.4f}\")\n",
    "    print(f\"🔹 Mean Squared Error (MSE): {mse:.4f}\")\n",
    "    print(f\"🔹 R² Score: {r2:.4f}\")\n",
    "    print(\"-\" * 50)\n",
    "\n",
    "# Evaluate all models\n",
    "evaluate_model(model_yield, X_test_yield, y_test_yield, \"Crop Yield\")\n",
    "evaluate_model(model_rainfall, X_test_rainfall, y_test_rainfall, \"Rainfall\")\n",
    "evaluate_model(model_price, X_test_price, y_test_price, \"Crop Price\")\n",
    "\n",
    "print(\"✅ Model evaluation completed!\")\n"
   ]
  },
  {
   "cell_type": "code",
   "execution_count": 27,
   "id": "f3cadcea",
   "metadata": {},
   "outputs": [],
   "source": [
    "import pandas as pd\n",
    "import numpy as np\n",
    "from sklearn.model_selection import train_test_split\n",
    "from sklearn.preprocessing import LabelEncoder\n",
    "from xgboost import XGBClassifier\n",
    "from sklearn.metrics import accuracy_score, classification_report, confusion_matrix\n"
   ]
  },
  {
   "cell_type": "code",
   "execution_count": 28,
   "id": "d4c02af7",
   "metadata": {},
   "outputs": [],
   "source": [
    "# Load the dataset\n",
    "file_path = \"data/Crop Nutrient.csv\"\n",
    "df = pd.read_csv(file_path)"
   ]
  },
  {
   "cell_type": "code",
   "execution_count": 29,
   "id": "2018f150",
   "metadata": {},
   "outputs": [
    {
     "data": {
      "text/plain": [
       "Index(['N', 'P', 'K', 'Temperature', 'Humidity', 'pH', 'Rainfall', 'Crop'], dtype='object')"
      ]
     },
     "execution_count": 29,
     "metadata": {},
     "output_type": "execute_result"
    }
   ],
   "source": [
    "df.columns"
   ]
  },
  {
   "cell_type": "code",
   "execution_count": 30,
   "id": "350cd1eb",
   "metadata": {},
   "outputs": [
    {
     "data": {
      "text/plain": [
       "array(['rice', 'maize', 'chickpea', 'kidneybeans', 'pigeonpeas',\n",
       "       'mothbeans', 'mungbean', 'blackgram', 'lentil', 'pomegranate',\n",
       "       'banana', 'mango', 'grapes', 'watermelon', 'muskmelon', 'apple',\n",
       "       'orange', 'papaya', 'coconut', 'cotton', 'jute', 'coffee'],\n",
       "      dtype=object)"
      ]
     },
     "execution_count": 30,
     "metadata": {},
     "output_type": "execute_result"
    }
   ],
   "source": [
    "df['Crop'].unique()"
   ]
  },
  {
   "cell_type": "code",
   "execution_count": 31,
   "id": "e1cf0ee3",
   "metadata": {},
   "outputs": [],
   "source": [
    "# Encode categorical target variable (Crop)\n",
    "label_encoder = LabelEncoder()\n",
    "df[\"Crop\"] = label_encoder.fit_transform(df[\"Crop\"])"
   ]
  },
  {
   "cell_type": "code",
   "execution_count": 32,
   "id": "194e2b8d",
   "metadata": {},
   "outputs": [],
   "source": [
    "# Split features and target\n",
    "X = df.drop(columns=[\"Crop\"])\n",
    "y = df[\"Crop\"]"
   ]
  },
  {
   "cell_type": "code",
   "execution_count": 33,
   "id": "c684efc5",
   "metadata": {},
   "outputs": [],
   "source": [
    "# Train-test split (80-20)\n",
    "X_train, X_test, y_train, y_test = train_test_split(X, y, test_size=0.2, random_state=42, stratify=y)"
   ]
  },
  {
   "cell_type": "code",
   "execution_count": 34,
   "id": "320bbf25",
   "metadata": {},
   "outputs": [
    {
     "name": "stdout",
     "output_type": "stream",
     "text": [
      "📌 **XGBoost Classifier Accuracy:** 99.55%\n"
     ]
    }
   ],
   "source": [
    "# Initialize and train XGBoost Classifier\n",
    "xgb_model = XGBClassifier(n_estimators=300, learning_rate=0.1, max_depth=6, subsample=0.8, colsample_bytree=0.8, random_state=42)\n",
    "xgb_model.fit(X_train, y_train)\n",
    "\n",
    "# Predictions\n",
    "y_pred_xgb = xgb_model.predict(X_test)\n",
    "\n",
    "# Model Evaluation\n",
    "accuracy_xgb = accuracy_score(y_test, y_pred_xgb)\n",
    "print(f\"📌 **XGBoost Classifier Accuracy:** {accuracy_xgb * 100:.2f}%\")"
   ]
  },
  {
   "cell_type": "code",
   "execution_count": 35,
   "id": "e3ada0b9",
   "metadata": {},
   "outputs": [
    {
     "name": "stdout",
     "output_type": "stream",
     "text": [
      "\n",
      "🔹 **Classification Report:**\n",
      "              precision    recall  f1-score   support\n",
      "\n",
      "       apple       1.00      1.00      1.00        20\n",
      "      banana       1.00      1.00      1.00        20\n",
      "   blackgram       1.00      1.00      1.00        20\n",
      "    chickpea       1.00      1.00      1.00        20\n",
      "     coconut       1.00      1.00      1.00        20\n",
      "      coffee       1.00      1.00      1.00        20\n",
      "      cotton       1.00      1.00      1.00        20\n",
      "      grapes       1.00      1.00      1.00        20\n",
      "        jute       0.95      1.00      0.98        20\n",
      " kidneybeans       1.00      1.00      1.00        20\n",
      "      lentil       1.00      0.95      0.97        20\n",
      "       maize       1.00      1.00      1.00        20\n",
      "       mango       1.00      1.00      1.00        20\n",
      "   mothbeans       0.95      1.00      0.98        20\n",
      "    mungbean       1.00      1.00      1.00        20\n",
      "   muskmelon       1.00      1.00      1.00        20\n",
      "      orange       1.00      1.00      1.00        20\n",
      "      papaya       1.00      1.00      1.00        20\n",
      "  pigeonpeas       1.00      1.00      1.00        20\n",
      " pomegranate       1.00      1.00      1.00        20\n",
      "        rice       1.00      0.95      0.97        20\n",
      "  watermelon       1.00      1.00      1.00        20\n",
      "\n",
      "    accuracy                           1.00       440\n",
      "   macro avg       1.00      1.00      1.00       440\n",
      "weighted avg       1.00      1.00      1.00       440\n",
      "\n"
     ]
    }
   ],
   "source": [
    "print(\"\\n🔹 **Classification Report:**\")\n",
    "print(classification_report(y_test, y_pred_xgb, target_names=label_encoder.classes_))\n"
   ]
  },
  {
   "cell_type": "code",
   "execution_count": 50,
   "id": "29eb697e",
   "metadata": {},
   "outputs": [
    {
     "name": "stdout",
     "output_type": "stream",
     "text": [
      "✅ All models and encoders saved successfully with 'predict' in filenames!\n"
     ]
    }
   ],
   "source": [
    "import pickle\n",
    "from sklearn.preprocessing import LabelEncoder\n",
    "\n",
    "# Define file paths with \"predict\" added\n",
    "model_paths = {\n",
    "    \"crop_yield\": \"models/crop_yield_predict.pkl\",\n",
    "    \"rainfall\": \"models/rainfall_predict.pkl\",\n",
    "    \"crop_price\": \"models/crop_price_predict.pkl\",\n",
    "    \"best_crop\": \"models/best_crop_predict.pkl\",\n",
    "    \"encoders\": \"models/encoders_predict.pkl\"\n",
    "}\n",
    "\n",
    "# Create encoders\n",
    "state_encoder = LabelEncoder()\n",
    "crop_encoder = LabelEncoder()\n",
    "soil_encoder = LabelEncoder()\n",
    "\n",
    "# Fit encoders using the categorical columns from datasets\n",
    "state_encoder.fit(crop_df[\"STATE\"])\n",
    "crop_encoder.fit(crop_df[\"CROP\"])\n",
    "soil_encoder.fit(crop_df[\"SOIL_TYPE\"])\n",
    "\n",
    "# Save models\n",
    "with open(model_paths[\"crop_yield\"], \"wb\") as file:\n",
    "    pickle.dump(model_yield, file)\n",
    "\n",
    "with open(model_paths[\"rainfall\"], \"wb\") as file:\n",
    "    pickle.dump(model_rainfall, file)\n",
    "\n",
    "with open(model_paths[\"crop_price\"], \"wb\") as file:\n",
    "    pickle.dump(model_price, file)\n",
    "\n",
    "with open(model_paths[\"best_crop\"], \"wb\") as file:\n",
    "    pickle.dump(xgb_model, file)\n",
    "\n",
    "# Save encoders\n",
    "encoders = {\n",
    "    \"state_encoder\": state_encoder,\n",
    "    \"crop_encoder\": crop_encoder,\n",
    "    \"soil_encoder\": soil_encoder\n",
    "}\n",
    "\n",
    "with open(model_paths[\"encoders\"], \"wb\") as file:\n",
    "    pickle.dump(encoders, file)\n",
    "\n",
    "print(\"✅ All models and encoders saved successfully with 'predict' in filenames!\")\n"
   ]
  },
  {
   "cell_type": "code",
   "execution_count": null,
   "id": "25a41a1a",
   "metadata": {},
   "outputs": [],
   "source": [
    "import pickle\n",
    "import numpy as np\n",
    "\n",
    "# Define file paths\n",
    "model_paths = {\n",
    "    \"crop_yield\": \"models/crop_yield_predict.pkl\",\n",
    "    \"rainfall\": \"models/rainfall_predict.pkl\",\n",
    "    \"crop_price\": \"models/crop_price_predict.pkl\",\n",
    "    \"best_crop\": \"models/best_crop_predict.pkl\",\n",
    "    \"encoders\": \"models/encoders_predict.pkl\"\n",
    "}\n",
    "\n",
    "# Load models\n",
    "with open(model_paths[\"crop_yield\"], \"rb\") as file:\n",
    "    model_yield = pickle.load(file)\n",
    "\n",
    "with open(model_paths[\"rainfall\"], \"rb\") as file:\n",
    "    model_rainfall = pickle.load(file)\n",
    "\n",
    "with open(model_paths[\"crop_price\"], \"rb\") as file:\n",
    "    model_price = pickle.load(file)\n",
    "\n",
    "with open(model_paths[\"best_crop\"], \"rb\") as file:\n",
    "    model_crop = pickle.load(file)\n",
    "\n",
    "# Load encoders\n",
    "with open(model_paths[\"encoders\"], \"rb\") as file:\n",
    "    encoders = pickle.load(file)\n",
    "\n",
    "state_encoder = encoders[\"state_encoder\"]\n",
    "crop_encoder = encoders[\"crop_encoder\"]\n",
    "soil_encoder = encoders[\"soil_encoder\"]\n",
    "\n",
    "# Take input\n",
    "state = input(\"Enter State: \")\n",
    "crop = input(\"Enter Crop: \")\n",
    "soil = input(\"Enter Soil Type: \")\n",
    "rainfall = float(input(\"Enter Rainfall (mm): \"))\n",
    "\n",
    "# Encode categorical values\n",
    "state_encoded = state_encoder.transform([state])[0]\n",
    "crop_encoded = crop_encoder.transform([crop])[0]\n",
    "soil_encoded = soil_encoder.transform([soil])[0]\n",
    "\n",
    "# Make Predictions\n",
    "best_crop = model_crop.predict([[state_encoded, soil_encoded, rainfall]])[0]\n",
    "expected_yield = model_yield.predict([[state_encoded, crop_encoded, soil_encoded, rainfall]])[0]\n",
    "predicted_price = model_price.predict([[state_encoded, crop_encoded]])[0]\n",
    "predicted_rainfall = model_rainfall.predict([[state_encoded]])[0]\n",
    "\n",
    "# Decode best crop\n",
    "best_crop_decoded = crop_encoder.inverse_transform([int(best_crop)])[0]\n",
    "\n",
    "# Output results\n",
    "print(\"\\n🌾 **Prediction Results** 🌾\")\n",
    "print(f\"✅ **Best Crop Recommendation:** {best_crop_decoded}\")\n",
    "print(f\"🌱 **Expected Yield:** {expected_yield:.2f} kg/ha\")\n",
    "print(f\"💰 **Market Price:** ₹{predicted_price:.2f}\")\n",
    "print(f\"☔ **Predicted Rainfall:** {predicted_rainfall:.2f} mm\")\n"
   ]
  },
  {
   "cell_type": "code",
   "execution_count": null,
   "id": "7aed3708",
   "metadata": {},
   "outputs": [],
   "source": []
  }
 ],
 "metadata": {
  "kernelspec": {
   "display_name": "Python 3 (ipykernel)",
   "language": "python",
   "name": "python3"
  },
  "language_info": {
   "codemirror_mode": {
    "name": "ipython",
    "version": 3
   },
   "file_extension": ".py",
   "mimetype": "text/x-python",
   "name": "python",
   "nbconvert_exporter": "python",
   "pygments_lexer": "ipython3",
   "version": "3.7.1"
  }
 },
 "nbformat": 4,
 "nbformat_minor": 5
}
