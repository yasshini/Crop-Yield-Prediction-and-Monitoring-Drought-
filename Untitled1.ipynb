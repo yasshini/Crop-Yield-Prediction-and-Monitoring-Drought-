{
 "cells": [
  {
   "cell_type": "code",
   "execution_count": 1,
   "id": "56c4c3f5",
   "metadata": {},
   "outputs": [],
   "source": [
    "import pandas as pd\n",
    "from sklearn.ensemble import RandomForestRegressor\n",
    "from sklearn.preprocessing import LabelEncoder\n",
    "import pickle"
   ]
  },
  {
   "cell_type": "code",
   "execution_count": 2,
   "id": "ed15d0e9",
   "metadata": {},
   "outputs": [],
   "source": [
    "# Load Dataset\n",
    "yield_data = pd.read_csv('data/Crop_Yield.csv')"
   ]
  },
  {
   "cell_type": "code",
   "execution_count": 5,
   "id": "3dbcdb0e",
   "metadata": {},
   "outputs": [
    {
     "data": {
      "text/plain": [
       "Index(['crop', 'year', 'season', 'state', 'area', 'production',\n",
       "       'annual rainfall', 'yield', 'crop_enc', 'season_enc', 'state_enc'],\n",
       "      dtype='object')"
      ]
     },
     "execution_count": 5,
     "metadata": {},
     "output_type": "execute_result"
    }
   ],
   "source": [
    "yield_data.columns"
   ]
  },
  {
   "cell_type": "code",
   "execution_count": 7,
   "id": "957bc2d2",
   "metadata": {},
   "outputs": [
    {
     "data": {
      "text/plain": [
       "array(['Maize', 'Onion', 'Potato', 'Rice', 'Sugarcane', 'Wheat', 'Bajra',\n",
       "       'Groundnut', 'Barley', 'Sunflower'], dtype=object)"
      ]
     },
     "execution_count": 7,
     "metadata": {},
     "output_type": "execute_result"
    }
   ],
   "source": [
    "yield_data['crop'].unique()"
   ]
  },
  {
   "cell_type": "code",
   "execution_count": 3,
   "id": "fee0794d",
   "metadata": {},
   "outputs": [],
   "source": [
    "# Encoding categorical columns\n",
    "le_crop = LabelEncoder()\n",
    "le_season = LabelEncoder()\n",
    "le_state = LabelEncoder()\n",
    "\n",
    "yield_data['crop_enc'] = le_crop.fit_transform(yield_data['crop'])\n",
    "yield_data['season_enc'] = le_season.fit_transform(yield_data['season'].str.strip())\n",
    "yield_data['state_enc'] = le_state.fit_transform(yield_data['state'].str.strip())"
   ]
  },
  {
   "cell_type": "code",
   "execution_count": 4,
   "id": "c57c5c8d",
   "metadata": {},
   "outputs": [],
   "source": [
    "# Features and Target\n",
    "X = yield_data[['crop_enc', 'year', 'season_enc', 'state_enc', 'area', 'annual rainfall']]\n",
    "y = yield_data['yield']\n"
   ]
  },
  {
   "cell_type": "code",
   "execution_count": 8,
   "id": "6af8718f",
   "metadata": {},
   "outputs": [
    {
     "data": {
      "text/plain": [
       "RandomForestRegressor(random_state=42)"
      ]
     },
     "execution_count": 8,
     "metadata": {},
     "output_type": "execute_result"
    }
   ],
   "source": [
    "# Model\n",
    "yield_model = RandomForestRegressor(n_estimators=100, random_state=42)\n",
    "yield_model.fit(X, y)"
   ]
  },
  {
   "cell_type": "code",
   "execution_count": 13,
   "id": "25511a22",
   "metadata": {},
   "outputs": [
    {
     "name": "stdout",
     "output_type": "stream",
     "text": [
      "✅ Crop Yield Model saved as crop_yield_model.pkl\n"
     ]
    }
   ],
   "source": [
    "# Save model and encoders\n",
    "pickle.dump(yield_model, open('models/predict_crop_yield_model.pkl', 'wb'))\n",
    "pickle.dump(le_crop, open('models/predict_crop_encoder.pkl', 'wb'))\n",
    "pickle.dump(le_season, open('models/predict_season_encoder.pkl', 'wb'))\n",
    "pickle.dump(le_state, open('models/predict_state_encoder.pkl', 'wb'))\n",
    "\n",
    "print(\"✅ Crop Yield Model saved as crop_yield_model.pkl\")"
   ]
  },
  {
   "cell_type": "code",
   "execution_count": 14,
   "id": "9a2e33fe",
   "metadata": {},
   "outputs": [],
   "source": [
    "# Load Crop Recommendation dataset\n",
    "crop_data = pd.read_csv('data/crop_data.csv')"
   ]
  },
  {
   "cell_type": "code",
   "execution_count": 15,
   "id": "ac42fec0",
   "metadata": {},
   "outputs": [],
   "source": [
    "# Encode target crop and soil\n",
    "crop_label_encoder = LabelEncoder()\n",
    "soil_label_encoder = LabelEncoder()\n",
    "\n",
    "crop_data['crop_enc'] = crop_label_encoder.fit_transform(crop_data['CROP'])\n",
    "crop_data['soil_enc'] = soil_label_encoder.fit_transform(crop_data['SOIL_TYPE'])\n"
   ]
  },
  {
   "cell_type": "code",
   "execution_count": 16,
   "id": "6557b5a0",
   "metadata": {},
   "outputs": [],
   "source": [
    "# Features for model\n",
    "crop_features = ['N_SOIL', 'P_SOIL', 'K_SOIL', 'TEMPERATURE', 'HUMIDITY', 'ph', 'RAINFALL']\n"
   ]
  },
  {
   "cell_type": "code",
   "execution_count": 19,
   "id": "7cfe546e",
   "metadata": {},
   "outputs": [
    {
     "name": "stdout",
     "output_type": "stream",
     "text": [
      "✅ Best Crop Recommendation Model saved as best_crop_model.pkl\n"
     ]
    }
   ],
   "source": [
    "# Train Best Crop Recommendation model (Classification)\n",
    "from sklearn.ensemble import RandomForestClassifier\n",
    "best_crop_model = RandomForestClassifier(n_estimators=100, random_state=42)\n",
    "best_crop_model.fit(crop_data[crop_features], crop_data['crop_enc'])\n",
    "\n",
    "# Save model and encoders\n",
    "pickle.dump(best_crop_model, open('models/bestt_crop_model.pkl', 'wb'))\n",
    "pickle.dump(crop_label_encoder, open('models/crop_label_encoder.pkl', 'wb'))\n",
    "pickle.dump(soil_label_encoder, open('models/soil_label_encoder.pkl', 'wb'))\n",
    "\n",
    "print(\"✅ Best Crop Recommendation Model saved as best_crop_model.pkl\")"
   ]
  },
  {
   "cell_type": "code",
   "execution_count": 20,
   "id": "e8e5c27c",
   "metadata": {},
   "outputs": [
    {
     "name": "stdout",
     "output_type": "stream",
     "text": [
      "✅ Crop Price Model saved as crop_price_model.pkl\n"
     ]
    }
   ],
   "source": [
    "# Train Crop Price Prediction Model (Regression)\n",
    "price_model = RandomForestRegressor(n_estimators=100, random_state=42)\n",
    "price_model.fit(crop_data[crop_features], crop_data['CROP_PRICE'])\n",
    "\n",
    "# Save Price Prediction Model\n",
    "pickle.dump(price_model, open('models/predict_crop_price_model.pkl', 'wb'))\n",
    "\n",
    "print(\"✅ Crop Price Model saved as crop_price_model.pkl\")\n"
   ]
  },
  {
   "cell_type": "code",
   "execution_count": null,
   "id": "f75d90dd",
   "metadata": {},
   "outputs": [],
   "source": []
  }
 ],
 "metadata": {
  "kernelspec": {
   "display_name": "Python 3 (ipykernel)",
   "language": "python",
   "name": "python3"
  },
  "language_info": {
   "codemirror_mode": {
    "name": "ipython",
    "version": 3
   },
   "file_extension": ".py",
   "mimetype": "text/x-python",
   "name": "python",
   "nbconvert_exporter": "python",
   "pygments_lexer": "ipython3",
   "version": "3.7.1"
  }
 },
 "nbformat": 4,
 "nbformat_minor": 5
}
